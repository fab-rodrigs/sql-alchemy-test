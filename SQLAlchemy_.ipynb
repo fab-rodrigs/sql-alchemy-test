{
  "nbformat": 4,
  "nbformat_minor": 0,
  "metadata": {
    "colab": {
      "provenance": [],
      "authorship_tag": "ABX9TyOnrvmOb18KevTHmRcUiga5",
      "include_colab_link": true
    },
    "kernelspec": {
      "name": "python3",
      "display_name": "Python 3"
    },
    "language_info": {
      "name": "python"
    }
  },
  "cells": [
    {
      "cell_type": "markdown",
      "metadata": {
        "id": "view-in-github",
        "colab_type": "text"
      },
      "source": [
        "<a href=\"https://colab.research.google.com/github/fab-rodrigs/sql-alchemy-test/blob/main/SQLAlchemy_.ipynb\" target=\"_parent\"><img src=\"https://colab.research.google.com/assets/colab-badge.svg\" alt=\"Open In Colab\"/></a>"
      ]
    },
    {
      "cell_type": "code",
      "source": [
        "#!pip install sqlalchemy\n",
        "#!conda install sqlalchemy -y\n",
        "\n",
        "import sqlalchemy"
      ],
      "metadata": {
        "id": "OyS4X6hTtOen"
      },
      "execution_count": null,
      "outputs": []
    },
    {
      "cell_type": "code",
      "source": [
        "sqlalchemy.__version__"
      ],
      "metadata": {
        "colab": {
          "base_uri": "https://localhost:8080/",
          "height": 35
        },
        "id": "NjnyuHiDsedQ",
        "outputId": "e150346e-f0dc-40b9-9ae3-e3c52d56592f"
      },
      "execution_count": null,
      "outputs": [
        {
          "output_type": "execute_result",
          "data": {
            "text/plain": [
              "'2.0.10'"
            ],
            "application/vnd.google.colaboratory.intrinsic+json": {
              "type": "string"
            }
          },
          "metadata": {},
          "execution_count": 2
        }
      ]
    },
    {
      "cell_type": "markdown",
      "source": [
        "Conectando ao banco de dados:"
      ],
      "metadata": {
        "id": "xrOjSSgetV5w"
      }
    },
    {
      "cell_type": "code",
      "source": [
        "engine = sqlalchemy.create_engine('sqlite:///bancodedados.db', echo=True) # echo = True possibilita ver o equivalente em SQL"
      ],
      "metadata": {
        "id": "8OiYegoytY2W"
      },
      "execution_count": null,
      "outputs": []
    },
    {
      "cell_type": "markdown",
      "source": [
        "Declarando o mapeamento:"
      ],
      "metadata": {
        "id": "Lul3BCfIuDEx"
      }
    },
    {
      "cell_type": "code",
      "source": [
        "from sqlalchemy.orm import declarative_base\n",
        "from sqlalchemy import Column, Integer, String # Colunas, dados tipo inteiro e strings"
      ],
      "metadata": {
        "id": "XwiOPhM6uBQR"
      },
      "execution_count": null,
      "outputs": []
    },
    {
      "cell_type": "code",
      "source": [
        "Base = declarative_base()"
      ],
      "metadata": {
        "id": "WZwez0nEuPw3"
      },
      "execution_count": null,
      "outputs": []
    },
    {
      "cell_type": "code",
      "source": [
        "class Usuario(Base):\n",
        "  __tablename__ = 'users' # obrigatório\n",
        "  id = Column(Integer, primary_key = True) # obrigatório (chave primária)\n",
        "  nome = Column(String(50))\n",
        "  sobrenome = Column(String(50))\n",
        "  idade = Column(Integer)\n",
        "\n",
        "  def __repr__(self):\n",
        "    return \"<Usuario(nome={}, sobrenome={}, idade={})>\".format(self.nome, self.sobrenome, self.idade)"
      ],
      "metadata": {
        "id": "UkqvZVc5ueHe"
      },
      "execution_count": null,
      "outputs": []
    },
    {
      "cell_type": "markdown",
      "source": [
        "Criar a tabela no banco de dados"
      ],
      "metadata": {
        "id": "BMKpZBymvfe4"
      }
    },
    {
      "cell_type": "code",
      "source": [
        "Base.metadata.create_all(engine)"
      ],
      "metadata": {
        "colab": {
          "base_uri": "https://localhost:8080/"
        },
        "id": "6TwI17yKvizo",
        "outputId": "4e080ef6-294e-4c5a-a88d-efd991ed8740"
      },
      "execution_count": null,
      "outputs": [
        {
          "output_type": "stream",
          "name": "stdout",
          "text": [
            "2023-05-13 15:46:53,225 INFO sqlalchemy.engine.Engine BEGIN (implicit)\n"
          ]
        },
        {
          "output_type": "stream",
          "name": "stderr",
          "text": [
            "INFO:sqlalchemy.engine.Engine:BEGIN (implicit)\n"
          ]
        },
        {
          "output_type": "stream",
          "name": "stdout",
          "text": [
            "2023-05-13 15:46:53,236 INFO sqlalchemy.engine.Engine PRAGMA main.table_info(\"users\")\n"
          ]
        },
        {
          "output_type": "stream",
          "name": "stderr",
          "text": [
            "INFO:sqlalchemy.engine.Engine:PRAGMA main.table_info(\"users\")\n"
          ]
        },
        {
          "output_type": "stream",
          "name": "stdout",
          "text": [
            "2023-05-13 15:46:53,241 INFO sqlalchemy.engine.Engine [raw sql] ()\n"
          ]
        },
        {
          "output_type": "stream",
          "name": "stderr",
          "text": [
            "INFO:sqlalchemy.engine.Engine:[raw sql] ()\n"
          ]
        },
        {
          "output_type": "stream",
          "name": "stdout",
          "text": [
            "2023-05-13 15:46:53,245 INFO sqlalchemy.engine.Engine PRAGMA temp.table_info(\"users\")\n"
          ]
        },
        {
          "output_type": "stream",
          "name": "stderr",
          "text": [
            "INFO:sqlalchemy.engine.Engine:PRAGMA temp.table_info(\"users\")\n"
          ]
        },
        {
          "output_type": "stream",
          "name": "stdout",
          "text": [
            "2023-05-13 15:46:53,247 INFO sqlalchemy.engine.Engine [raw sql] ()\n"
          ]
        },
        {
          "output_type": "stream",
          "name": "stderr",
          "text": [
            "INFO:sqlalchemy.engine.Engine:[raw sql] ()\n"
          ]
        },
        {
          "output_type": "stream",
          "name": "stdout",
          "text": [
            "2023-05-13 15:46:53,256 INFO sqlalchemy.engine.Engine \n",
            "CREATE TABLE users (\n",
            "\tid INTEGER NOT NULL, \n",
            "\tnome VARCHAR(50), \n",
            "\tsobrenome VARCHAR(50), \n",
            "\tidade INTEGER, \n",
            "\tPRIMARY KEY (id)\n",
            ")\n",
            "\n",
            "\n"
          ]
        },
        {
          "output_type": "stream",
          "name": "stderr",
          "text": [
            "INFO:sqlalchemy.engine.Engine:\n",
            "CREATE TABLE users (\n",
            "\tid INTEGER NOT NULL, \n",
            "\tnome VARCHAR(50), \n",
            "\tsobrenome VARCHAR(50), \n",
            "\tidade INTEGER, \n",
            "\tPRIMARY KEY (id)\n",
            ")\n",
            "\n",
            "\n"
          ]
        },
        {
          "output_type": "stream",
          "name": "stdout",
          "text": [
            "2023-05-13 15:46:53,258 INFO sqlalchemy.engine.Engine [no key 0.00258s] ()\n"
          ]
        },
        {
          "output_type": "stream",
          "name": "stderr",
          "text": [
            "INFO:sqlalchemy.engine.Engine:[no key 0.00258s] ()\n"
          ]
        },
        {
          "output_type": "stream",
          "name": "stdout",
          "text": [
            "2023-05-13 15:46:53,276 INFO sqlalchemy.engine.Engine COMMIT\n"
          ]
        },
        {
          "output_type": "stream",
          "name": "stderr",
          "text": [
            "INFO:sqlalchemy.engine.Engine:COMMIT\n"
          ]
        }
      ]
    },
    {
      "cell_type": "markdown",
      "source": [
        "Criar instâncias da classe"
      ],
      "metadata": {
        "id": "KasInjC0wIur"
      }
    },
    {
      "cell_type": "code",
      "source": [
        "usuario = Usuario(nome='Fabricio', sobrenome='Rodrigues', idade = 19)"
      ],
      "metadata": {
        "id": "P2s6S8l-wHrf"
      },
      "execution_count": null,
      "outputs": []
    },
    {
      "cell_type": "code",
      "source": [
        "usuario.nome"
      ],
      "metadata": {
        "colab": {
          "base_uri": "https://localhost:8080/",
          "height": 35
        },
        "id": "X-jkcNJ_wvg3",
        "outputId": "504d057b-1379-42d3-b028-9f3a0e343cfd"
      },
      "execution_count": null,
      "outputs": [
        {
          "output_type": "execute_result",
          "data": {
            "text/plain": [
              "'Fabricio'"
            ],
            "application/vnd.google.colaboratory.intrinsic+json": {
              "type": "string"
            }
          },
          "metadata": {},
          "execution_count": 9
        }
      ]
    },
    {
      "cell_type": "code",
      "source": [
        "usuario.sobrenome"
      ],
      "metadata": {
        "colab": {
          "base_uri": "https://localhost:8080/",
          "height": 35
        },
        "id": "nywQo7mgwzZv",
        "outputId": "c6da6d06-fd8c-454e-f6ff-4ff19aa23ab6"
      },
      "execution_count": null,
      "outputs": [
        {
          "output_type": "execute_result",
          "data": {
            "text/plain": [
              "'Rodrigues'"
            ],
            "application/vnd.google.colaboratory.intrinsic+json": {
              "type": "string"
            }
          },
          "metadata": {},
          "execution_count": 10
        }
      ]
    },
    {
      "cell_type": "markdown",
      "source": [
        "Criar uma sessão"
      ],
      "metadata": {
        "id": "LQtbP0w2w3ov"
      }
    },
    {
      "cell_type": "code",
      "source": [
        "from sqlalchemy.orm import sessionmaker"
      ],
      "metadata": {
        "id": "kmxJ1-QIw2XY"
      },
      "execution_count": null,
      "outputs": []
    },
    {
      "cell_type": "code",
      "source": [
        "Session = sessionmaker(bind=engine)\n",
        "Session"
      ],
      "metadata": {
        "colab": {
          "base_uri": "https://localhost:8080/"
        },
        "id": "LUcCERtww9yH",
        "outputId": "2b33b5a2-fe5f-4de0-cb24-c120bdd25f8e"
      },
      "execution_count": null,
      "outputs": [
        {
          "output_type": "execute_result",
          "data": {
            "text/plain": [
              "sessionmaker(class_='Session', bind=Engine(sqlite:///bancodedados.db), autoflush=True, expire_on_commit=True)"
            ]
          },
          "metadata": {},
          "execution_count": 12
        }
      ]
    },
    {
      "cell_type": "code",
      "source": [
        "session = Session()"
      ],
      "metadata": {
        "id": "vBWvJfRXxH1p"
      },
      "execution_count": null,
      "outputs": []
    },
    {
      "cell_type": "markdown",
      "source": [
        "Adiocionar objetos (INSERT)"
      ],
      "metadata": {
        "id": "y1Y2EhjLxK6g"
      }
    },
    {
      "cell_type": "code",
      "source": [
        "session.add(usuario)"
      ],
      "metadata": {
        "id": "uDhwr7oUxOdI"
      },
      "execution_count": null,
      "outputs": []
    },
    {
      "cell_type": "code",
      "source": [
        "session.commit()"
      ],
      "metadata": {
        "colab": {
          "base_uri": "https://localhost:8080/"
        },
        "id": "YXDXykNKxcrI",
        "outputId": "786b9dce-2138-4ee3-c55e-df743d623175"
      },
      "execution_count": null,
      "outputs": [
        {
          "output_type": "stream",
          "name": "stdout",
          "text": [
            "2023-05-13 15:46:53,367 INFO sqlalchemy.engine.Engine BEGIN (implicit)\n"
          ]
        },
        {
          "output_type": "stream",
          "name": "stderr",
          "text": [
            "INFO:sqlalchemy.engine.Engine:BEGIN (implicit)\n"
          ]
        },
        {
          "output_type": "stream",
          "name": "stdout",
          "text": [
            "2023-05-13 15:46:53,379 INFO sqlalchemy.engine.Engine INSERT INTO users (nome, sobrenome, idade) VALUES (?, ?, ?)\n"
          ]
        },
        {
          "output_type": "stream",
          "name": "stderr",
          "text": [
            "INFO:sqlalchemy.engine.Engine:INSERT INTO users (nome, sobrenome, idade) VALUES (?, ?, ?)\n"
          ]
        },
        {
          "output_type": "stream",
          "name": "stdout",
          "text": [
            "2023-05-13 15:46:53,387 INFO sqlalchemy.engine.Engine [generated in 0.00777s] ('Fabricio', 'Rodrigues', 19)\n"
          ]
        },
        {
          "output_type": "stream",
          "name": "stderr",
          "text": [
            "INFO:sqlalchemy.engine.Engine:[generated in 0.00777s] ('Fabricio', 'Rodrigues', 19)\n"
          ]
        },
        {
          "output_type": "stream",
          "name": "stdout",
          "text": [
            "2023-05-13 15:46:53,391 INFO sqlalchemy.engine.Engine COMMIT\n"
          ]
        },
        {
          "output_type": "stream",
          "name": "stderr",
          "text": [
            "INFO:sqlalchemy.engine.Engine:COMMIT\n"
          ]
        }
      ]
    },
    {
      "cell_type": "code",
      "source": [
        "session.add_all([ # adicionando mais de um usuário\n",
        "    Usuario(nome='Patrick', sobrenome='Santana', idade = 29),\n",
        "    Usuario(nome='Mariana', sobrenome='Oliveira', idade = 32)\n",
        "])"
      ],
      "metadata": {
        "id": "mw8Cmq3uxl8_"
      },
      "execution_count": null,
      "outputs": []
    },
    {
      "cell_type": "code",
      "source": [
        "session.new # informações de memória que ainda não estão no banco de dados"
      ],
      "metadata": {
        "colab": {
          "base_uri": "https://localhost:8080/"
        },
        "id": "OIOLQu3Qx-x_",
        "outputId": "231746a1-641d-4a7c-8e85-9f8ec5af02d0"
      },
      "execution_count": null,
      "outputs": [
        {
          "output_type": "execute_result",
          "data": {
            "text/plain": [
              "IdentitySet([<Usuario(nome=Patrick, sobrenome=Santana, idade=29)>, <Usuario(nome=Mariana, sobrenome=Oliveira, idade=32)>])"
            ]
          },
          "metadata": {},
          "execution_count": 17
        }
      ]
    },
    {
      "cell_type": "code",
      "source": [
        "session.commit() # inserindo informações no banco de dados"
      ],
      "metadata": {
        "colab": {
          "base_uri": "https://localhost:8080/"
        },
        "id": "TNFeCa_fx_8_",
        "outputId": "9ab0c93e-874b-496b-e274-d7a269de69fa"
      },
      "execution_count": null,
      "outputs": [
        {
          "output_type": "stream",
          "name": "stdout",
          "text": [
            "2023-05-13 15:47:50,536 INFO sqlalchemy.engine.Engine BEGIN (implicit)\n"
          ]
        },
        {
          "output_type": "stream",
          "name": "stderr",
          "text": [
            "INFO:sqlalchemy.engine.Engine:BEGIN (implicit)\n"
          ]
        },
        {
          "output_type": "stream",
          "name": "stdout",
          "text": [
            "2023-05-13 15:47:50,548 INFO sqlalchemy.engine.Engine INSERT INTO users (nome, sobrenome, idade) VALUES (?, ?, ?)\n"
          ]
        },
        {
          "output_type": "stream",
          "name": "stderr",
          "text": [
            "INFO:sqlalchemy.engine.Engine:INSERT INTO users (nome, sobrenome, idade) VALUES (?, ?, ?)\n"
          ]
        },
        {
          "output_type": "stream",
          "name": "stdout",
          "text": [
            "2023-05-13 15:47:50,554 INFO sqlalchemy.engine.Engine [cached since 57.18s ago] ('Patrick', 'Santana', 29)\n"
          ]
        },
        {
          "output_type": "stream",
          "name": "stderr",
          "text": [
            "INFO:sqlalchemy.engine.Engine:[cached since 57.18s ago] ('Patrick', 'Santana', 29)\n"
          ]
        },
        {
          "output_type": "stream",
          "name": "stdout",
          "text": [
            "2023-05-13 15:47:50,561 INFO sqlalchemy.engine.Engine INSERT INTO users (nome, sobrenome, idade) VALUES (?, ?, ?)\n"
          ]
        },
        {
          "output_type": "stream",
          "name": "stderr",
          "text": [
            "INFO:sqlalchemy.engine.Engine:INSERT INTO users (nome, sobrenome, idade) VALUES (?, ?, ?)\n"
          ]
        },
        {
          "output_type": "stream",
          "name": "stdout",
          "text": [
            "2023-05-13 15:47:50,565 INFO sqlalchemy.engine.Engine [cached since 57.19s ago] ('Mariana', 'Oliveira', 32)\n"
          ]
        },
        {
          "output_type": "stream",
          "name": "stderr",
          "text": [
            "INFO:sqlalchemy.engine.Engine:[cached since 57.19s ago] ('Mariana', 'Oliveira', 32)\n"
          ]
        },
        {
          "output_type": "stream",
          "name": "stdout",
          "text": [
            "2023-05-13 15:47:50,568 INFO sqlalchemy.engine.Engine COMMIT\n"
          ]
        },
        {
          "output_type": "stream",
          "name": "stderr",
          "text": [
            "INFO:sqlalchemy.engine.Engine:COMMIT\n"
          ]
        }
      ]
    },
    {
      "cell_type": "markdown",
      "source": [
        "Consultar objetos (SELECT)"
      ],
      "metadata": {
        "id": "gruP7JT-zZEI"
      }
    },
    {
      "cell_type": "code",
      "source": [
        "query_user = session.query(Usuario).filter_by(nome='Fabricio').first() # query = consulta"
      ],
      "metadata": {
        "colab": {
          "base_uri": "https://localhost:8080/"
        },
        "id": "OcF1FidEzbl8",
        "outputId": "4a4dd8af-3f43-4cee-a11c-87d27cf26ece"
      },
      "execution_count": null,
      "outputs": [
        {
          "output_type": "stream",
          "name": "stdout",
          "text": [
            "2023-05-13 15:54:44,623 INFO sqlalchemy.engine.Engine SELECT users.id AS users_id, users.nome AS users_nome, users.sobrenome AS users_sobrenome, users.idade AS users_idade \n",
            "FROM users \n",
            "WHERE users.nome = ?\n",
            " LIMIT ? OFFSET ?\n"
          ]
        },
        {
          "output_type": "stream",
          "name": "stderr",
          "text": [
            "INFO:sqlalchemy.engine.Engine:SELECT users.id AS users_id, users.nome AS users_nome, users.sobrenome AS users_sobrenome, users.idade AS users_idade \n",
            "FROM users \n",
            "WHERE users.nome = ?\n",
            " LIMIT ? OFFSET ?\n"
          ]
        },
        {
          "output_type": "stream",
          "name": "stdout",
          "text": [
            "2023-05-13 15:54:44,632 INFO sqlalchemy.engine.Engine [cached since 204.8s ago] ('Fabricio', 1, 0)\n"
          ]
        },
        {
          "output_type": "stream",
          "name": "stderr",
          "text": [
            "INFO:sqlalchemy.engine.Engine:[cached since 204.8s ago] ('Fabricio', 1, 0)\n"
          ]
        }
      ]
    },
    {
      "cell_type": "code",
      "source": [
        "query_user"
      ],
      "metadata": {
        "colab": {
          "base_uri": "https://localhost:8080/"
        },
        "id": "2FIWOtG5z8Ra",
        "outputId": "f61d4d95-7ef3-4ef3-88fb-aac140918fbd"
      },
      "execution_count": null,
      "outputs": [
        {
          "output_type": "execute_result",
          "data": {
            "text/plain": [
              "<Usuario(nome=Fabricio, sobrenome=Rodrigues, idade=19)>"
            ]
          },
          "metadata": {},
          "execution_count": 27
        }
      ]
    },
    {
      "cell_type": "code",
      "source": [
        "query_user.sobrenome"
      ],
      "metadata": {
        "colab": {
          "base_uri": "https://localhost:8080/",
          "height": 35
        },
        "id": "cH9ch9Fvz9SB",
        "outputId": "579c376f-2db3-4757-fd94-9e0b43519229"
      },
      "execution_count": null,
      "outputs": [
        {
          "output_type": "execute_result",
          "data": {
            "text/plain": [
              "'Rodrigues'"
            ],
            "application/vnd.google.colaboratory.intrinsic+json": {
              "type": "string"
            }
          },
          "metadata": {},
          "execution_count": 28
        }
      ]
    },
    {
      "cell_type": "code",
      "source": [
        "query_user.id # sqlalchemy criar diferentes chaves primarias sozinho"
      ],
      "metadata": {
        "colab": {
          "base_uri": "https://localhost:8080/"
        },
        "id": "npblYxKc0gMh",
        "outputId": "d314f932-ff3c-43b1-b1ef-7250a6bfbbf2"
      },
      "execution_count": null,
      "outputs": [
        {
          "output_type": "execute_result",
          "data": {
            "text/plain": [
              "1"
            ]
          },
          "metadata": {},
          "execution_count": 29
        }
      ]
    },
    {
      "cell_type": "markdown",
      "source": [
        "^ Isso é mapeamento objeto relacional (ORM) ^"
      ],
      "metadata": {
        "id": "kYayEKHE0Qma"
      }
    },
    {
      "cell_type": "markdown",
      "source": [
        "Imprimindo dados"
      ],
      "metadata": {
        "id": "fZVet68f08Eh"
      }
    },
    {
      "cell_type": "code",
      "source": [
        "for instance in session.query(Usuario).order_by(Usuario.id):\n",
        "  print(instance.nome, instance.sobrenome)"
      ],
      "metadata": {
        "colab": {
          "base_uri": "https://localhost:8080/"
        },
        "id": "dNbp3hAp0TKo",
        "outputId": "6d7df380-cd6d-436c-8c87-b21635098e54"
      },
      "execution_count": null,
      "outputs": [
        {
          "output_type": "stream",
          "name": "stdout",
          "text": [
            "2023-05-13 15:55:50,420 INFO sqlalchemy.engine.Engine SELECT users.id AS users_id, users.nome AS users_nome, users.sobrenome AS users_sobrenome, users.idade AS users_idade \n",
            "FROM users ORDER BY users.id\n"
          ]
        },
        {
          "output_type": "stream",
          "name": "stderr",
          "text": [
            "INFO:sqlalchemy.engine.Engine:SELECT users.id AS users_id, users.nome AS users_nome, users.sobrenome AS users_sobrenome, users.idade AS users_idade \n",
            "FROM users ORDER BY users.id\n"
          ]
        },
        {
          "output_type": "stream",
          "name": "stdout",
          "text": [
            "2023-05-13 15:55:50,425 INFO sqlalchemy.engine.Engine [generated in 0.00506s] ()\n"
          ]
        },
        {
          "output_type": "stream",
          "name": "stderr",
          "text": [
            "INFO:sqlalchemy.engine.Engine:[generated in 0.00506s] ()\n"
          ]
        },
        {
          "output_type": "stream",
          "name": "stdout",
          "text": [
            "Fabricio Rodrigues\n",
            "Patrick Santana\n",
            "Mariana Oliveira\n"
          ]
        }
      ]
    },
    {
      "cell_type": "markdown",
      "source": [
        "Imprimindo informações separadas"
      ],
      "metadata": {
        "id": "LyyY9FY11dc5"
      }
    },
    {
      "cell_type": "code",
      "source": [
        "for info in session.query(Usuario.nome, Usuario.idade).filter_by(nome='Fabricio'):\n",
        "  print(info)"
      ],
      "metadata": {
        "colab": {
          "base_uri": "https://localhost:8080/"
        },
        "id": "XawhRvXK0_-I",
        "outputId": "c2ac4a1a-36f7-4e69-cd78-dc8451630ca4"
      },
      "execution_count": null,
      "outputs": [
        {
          "output_type": "stream",
          "name": "stdout",
          "text": [
            "2023-05-13 15:58:15,980 INFO sqlalchemy.engine.Engine SELECT users.nome AS users_nome, users.idade AS users_idade \n",
            "FROM users \n",
            "WHERE users.nome = ?\n"
          ]
        },
        {
          "output_type": "stream",
          "name": "stderr",
          "text": [
            "INFO:sqlalchemy.engine.Engine:SELECT users.nome AS users_nome, users.idade AS users_idade \n",
            "FROM users \n",
            "WHERE users.nome = ?\n"
          ]
        },
        {
          "output_type": "stream",
          "name": "stdout",
          "text": [
            "2023-05-13 15:58:15,983 INFO sqlalchemy.engine.Engine [generated in 0.00289s] ('Fabricio',)\n"
          ]
        },
        {
          "output_type": "stream",
          "name": "stderr",
          "text": [
            "INFO:sqlalchemy.engine.Engine:[generated in 0.00289s] ('Fabricio',)\n"
          ]
        },
        {
          "output_type": "stream",
          "name": "stdout",
          "text": [
            "('Fabricio', 19)\n"
          ]
        }
      ]
    },
    {
      "cell_type": "markdown",
      "source": [
        "Modificar objetos (UPDATE)"
      ],
      "metadata": {
        "id": "IYPRPImO1rEQ"
      }
    },
    {
      "cell_type": "code",
      "source": [
        "usuario"
      ],
      "metadata": {
        "colab": {
          "base_uri": "https://localhost:8080/"
        },
        "id": "YyqIZRU11uWD",
        "outputId": "f92aff81-c6ff-468c-ec6e-ecdeec345bac"
      },
      "execution_count": null,
      "outputs": [
        {
          "output_type": "execute_result",
          "data": {
            "text/plain": [
              "<Usuario(nome=Fabricio, sobrenome=Rodrigues, idade=19)>"
            ]
          },
          "metadata": {},
          "execution_count": 35
        }
      ]
    },
    {
      "cell_type": "code",
      "source": [
        "usuario.sobrenome = 'Rodrigues de Santana'"
      ],
      "metadata": {
        "id": "j83RTDmH10tK"
      },
      "execution_count": null,
      "outputs": []
    },
    {
      "cell_type": "code",
      "source": [
        "usuario"
      ],
      "metadata": {
        "colab": {
          "base_uri": "https://localhost:8080/"
        },
        "id": "YZ4MxTMF14UJ",
        "outputId": "036d6589-498e-4857-ecf3-2b7d9a35059b"
      },
      "execution_count": null,
      "outputs": [
        {
          "output_type": "execute_result",
          "data": {
            "text/plain": [
              "<Usuario(nome=Fabricio, sobrenome=Rodrigues de Santana, idade=19)>"
            ]
          },
          "metadata": {},
          "execution_count": 37
        }
      ]
    },
    {
      "cell_type": "code",
      "source": [
        "session.dirty # verificando informações antes de inserir no banco de dados"
      ],
      "metadata": {
        "colab": {
          "base_uri": "https://localhost:8080/"
        },
        "id": "RfzUX0m416UJ",
        "outputId": "36b6ac6e-11d8-4ff2-8a78-a64f48a63a34"
      },
      "execution_count": null,
      "outputs": [
        {
          "output_type": "execute_result",
          "data": {
            "text/plain": [
              "IdentitySet([<Usuario(nome=Fabricio, sobrenome=Rodrigues de Santana, idade=19)>])"
            ]
          },
          "metadata": {},
          "execution_count": 38
        }
      ]
    },
    {
      "cell_type": "code",
      "source": [
        "session.commit() # por se tratar apenas de objetos, basta alterar a informação do próprio objeto e o sqlalchemy faz todo o processo de modificação"
      ],
      "metadata": {
        "colab": {
          "base_uri": "https://localhost:8080/"
        },
        "id": "yu-dSqS42BHL",
        "outputId": "708d8ed6-ab7f-4ccc-f00a-e5ea5c8304dd"
      },
      "execution_count": null,
      "outputs": [
        {
          "output_type": "stream",
          "name": "stdout",
          "text": [
            "2023-05-13 16:01:10,998 INFO sqlalchemy.engine.Engine UPDATE users SET sobrenome=? WHERE users.id = ?\n"
          ]
        },
        {
          "output_type": "stream",
          "name": "stderr",
          "text": [
            "INFO:sqlalchemy.engine.Engine:UPDATE users SET sobrenome=? WHERE users.id = ?\n"
          ]
        },
        {
          "output_type": "stream",
          "name": "stdout",
          "text": [
            "2023-05-13 16:01:11,004 INFO sqlalchemy.engine.Engine [generated in 0.00559s] ('Rodrigues de Santana', 1)\n"
          ]
        },
        {
          "output_type": "stream",
          "name": "stderr",
          "text": [
            "INFO:sqlalchemy.engine.Engine:[generated in 0.00559s] ('Rodrigues de Santana', 1)\n"
          ]
        },
        {
          "output_type": "stream",
          "name": "stdout",
          "text": [
            "2023-05-13 16:01:11,007 INFO sqlalchemy.engine.Engine COMMIT\n"
          ]
        },
        {
          "output_type": "stream",
          "name": "stderr",
          "text": [
            "INFO:sqlalchemy.engine.Engine:COMMIT\n"
          ]
        }
      ]
    },
    {
      "cell_type": "markdown",
      "source": [
        "Deletar objetos (DELETE)"
      ],
      "metadata": {
        "id": "0jiU7X6m2QRZ"
      }
    },
    {
      "cell_type": "code",
      "source": [
        "usuario = session.query(Usuario).filter_by(nome=\"Mariana\").first() # first pega o primeiro nome com essas características"
      ],
      "metadata": {
        "colab": {
          "base_uri": "https://localhost:8080/"
        },
        "id": "XgMuFVfg2Tls",
        "outputId": "14f30443-9039-4e7c-c405-80e6df304868"
      },
      "execution_count": null,
      "outputs": [
        {
          "output_type": "stream",
          "name": "stdout",
          "text": [
            "2023-05-13 16:02:57,041 INFO sqlalchemy.engine.Engine BEGIN (implicit)\n"
          ]
        },
        {
          "output_type": "stream",
          "name": "stderr",
          "text": [
            "INFO:sqlalchemy.engine.Engine:BEGIN (implicit)\n"
          ]
        },
        {
          "output_type": "stream",
          "name": "stdout",
          "text": [
            "2023-05-13 16:02:57,046 INFO sqlalchemy.engine.Engine SELECT users.id AS users_id, users.nome AS users_nome, users.sobrenome AS users_sobrenome, users.idade AS users_idade \n",
            "FROM users \n",
            "WHERE users.nome = ?\n",
            " LIMIT ? OFFSET ?\n"
          ]
        },
        {
          "output_type": "stream",
          "name": "stderr",
          "text": [
            "INFO:sqlalchemy.engine.Engine:SELECT users.id AS users_id, users.nome AS users_nome, users.sobrenome AS users_sobrenome, users.idade AS users_idade \n",
            "FROM users \n",
            "WHERE users.nome = ?\n",
            " LIMIT ? OFFSET ?\n"
          ]
        },
        {
          "output_type": "stream",
          "name": "stdout",
          "text": [
            "2023-05-13 16:02:57,052 INFO sqlalchemy.engine.Engine [cached since 697.2s ago] ('Mariana', 1, 0)\n"
          ]
        },
        {
          "output_type": "stream",
          "name": "stderr",
          "text": [
            "INFO:sqlalchemy.engine.Engine:[cached since 697.2s ago] ('Mariana', 1, 0)\n"
          ]
        }
      ]
    },
    {
      "cell_type": "code",
      "source": [
        "usuario"
      ],
      "metadata": {
        "colab": {
          "base_uri": "https://localhost:8080/"
        },
        "id": "ikCVf3l-2erJ",
        "outputId": "af42bf7d-88eb-4ae6-bd8d-06e6aaa1fe36"
      },
      "execution_count": null,
      "outputs": [
        {
          "output_type": "execute_result",
          "data": {
            "text/plain": [
              "<Usuario(nome=Mariana, sobrenome=Oliveira, idade=32)>"
            ]
          },
          "metadata": {},
          "execution_count": 41
        }
      ]
    },
    {
      "cell_type": "code",
      "source": [
        "session.delete(usuario)"
      ],
      "metadata": {
        "id": "LgxcwX0B2g8I"
      },
      "execution_count": null,
      "outputs": []
    },
    {
      "cell_type": "code",
      "source": [
        "session.commit() # para converter o código para sql tem que dar o commit"
      ],
      "metadata": {
        "colab": {
          "base_uri": "https://localhost:8080/"
        },
        "id": "4AYaZllz2kJ4",
        "outputId": "9acd12aa-c7d3-4e2d-a8ac-8ccdbfd94a62"
      },
      "execution_count": null,
      "outputs": [
        {
          "output_type": "stream",
          "name": "stdout",
          "text": [
            "2023-05-13 16:03:46,004 INFO sqlalchemy.engine.Engine DELETE FROM users WHERE users.id = ?\n"
          ]
        },
        {
          "output_type": "stream",
          "name": "stderr",
          "text": [
            "INFO:sqlalchemy.engine.Engine:DELETE FROM users WHERE users.id = ?\n"
          ]
        },
        {
          "output_type": "stream",
          "name": "stdout",
          "text": [
            "2023-05-13 16:03:46,010 INFO sqlalchemy.engine.Engine [generated in 0.00623s] (3,)\n"
          ]
        },
        {
          "output_type": "stream",
          "name": "stderr",
          "text": [
            "INFO:sqlalchemy.engine.Engine:[generated in 0.00623s] (3,)\n"
          ]
        },
        {
          "output_type": "stream",
          "name": "stdout",
          "text": [
            "2023-05-13 16:03:46,017 INFO sqlalchemy.engine.Engine COMMIT\n"
          ]
        },
        {
          "output_type": "stream",
          "name": "stderr",
          "text": [
            "INFO:sqlalchemy.engine.Engine:COMMIT\n"
          ]
        }
      ]
    },
    {
      "cell_type": "code",
      "source": [
        "session.query(Usuario).filter_by(nome=\"Mariana\").count() # conta quantos usuários existem com esse nome"
      ],
      "metadata": {
        "colab": {
          "base_uri": "https://localhost:8080/"
        },
        "id": "vB-NQbCY2z8R",
        "outputId": "c1983ee5-269f-4914-f843-c0ffb336bfae"
      },
      "execution_count": null,
      "outputs": [
        {
          "output_type": "stream",
          "name": "stdout",
          "text": [
            "2023-05-13 16:04:51,981 INFO sqlalchemy.engine.Engine BEGIN (implicit)\n"
          ]
        },
        {
          "output_type": "stream",
          "name": "stderr",
          "text": [
            "INFO:sqlalchemy.engine.Engine:BEGIN (implicit)\n"
          ]
        },
        {
          "output_type": "stream",
          "name": "stdout",
          "text": [
            "2023-05-13 16:04:51,996 INFO sqlalchemy.engine.Engine SELECT count(*) AS count_1 \n",
            "FROM (SELECT users.id AS users_id, users.nome AS users_nome, users.sobrenome AS users_sobrenome, users.idade AS users_idade \n",
            "FROM users \n",
            "WHERE users.nome = ?) AS anon_1\n"
          ]
        },
        {
          "output_type": "stream",
          "name": "stderr",
          "text": [
            "INFO:sqlalchemy.engine.Engine:SELECT count(*) AS count_1 \n",
            "FROM (SELECT users.id AS users_id, users.nome AS users_nome, users.sobrenome AS users_sobrenome, users.idade AS users_idade \n",
            "FROM users \n",
            "WHERE users.nome = ?) AS anon_1\n"
          ]
        },
        {
          "output_type": "stream",
          "name": "stdout",
          "text": [
            "2023-05-13 16:04:52,001 INFO sqlalchemy.engine.Engine [generated in 0.00486s] ('Mariana',)\n"
          ]
        },
        {
          "output_type": "stream",
          "name": "stderr",
          "text": [
            "INFO:sqlalchemy.engine.Engine:[generated in 0.00486s] ('Mariana',)\n"
          ]
        },
        {
          "output_type": "execute_result",
          "data": {
            "text/plain": [
              "0"
            ]
          },
          "metadata": {},
          "execution_count": 44
        }
      ]
    },
    {
      "cell_type": "code",
      "source": [
        "for instance in session.query(Usuario).order_by(Usuario.id): # imprimindo dados novamente\n",
        "  print(instance.nome, instance.sobrenome)"
      ],
      "metadata": {
        "colab": {
          "base_uri": "https://localhost:8080/"
        },
        "id": "rWVCsFdd3Jwh",
        "outputId": "c9a55445-fb0c-400a-f739-063e3df33fe5"
      },
      "execution_count": null,
      "outputs": [
        {
          "output_type": "stream",
          "name": "stdout",
          "text": [
            "2023-05-13 16:06:00,638 INFO sqlalchemy.engine.Engine SELECT users.id AS users_id, users.nome AS users_nome, users.sobrenome AS users_sobrenome, users.idade AS users_idade \n",
            "FROM users ORDER BY users.id\n"
          ]
        },
        {
          "output_type": "stream",
          "name": "stderr",
          "text": [
            "INFO:sqlalchemy.engine.Engine:SELECT users.id AS users_id, users.nome AS users_nome, users.sobrenome AS users_sobrenome, users.idade AS users_idade \n",
            "FROM users ORDER BY users.id\n"
          ]
        },
        {
          "output_type": "stream",
          "name": "stdout",
          "text": [
            "2023-05-13 16:06:00,647 INFO sqlalchemy.engine.Engine [cached since 610.2s ago] ()\n"
          ]
        },
        {
          "output_type": "stream",
          "name": "stderr",
          "text": [
            "INFO:sqlalchemy.engine.Engine:[cached since 610.2s ago] ()\n"
          ]
        },
        {
          "output_type": "stream",
          "name": "stdout",
          "text": [
            "Fabricio Rodrigues de Santana\n",
            "Patrick Santana\n"
          ]
        }
      ]
    }
  ]
}